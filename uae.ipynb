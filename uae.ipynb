{
 "cells": [
  {
   "cell_type": "markdown",
   "id": "c308f01d",
   "metadata": {},
   "source": [
    "# **COVID-19’s Impact on the UAE’s Economy: Evidence of its reliance on policies of foreign countries:**"
   ]
  },
  {
   "cell_type": "markdown",
   "id": "a528f330",
   "metadata": {},
   "source": [
    "Note: If you have cloned the repository, there is normally no need to install anything externally. If this is not the case, please let me know. The only thing that will need to be changed on the readers end is to change the paths to fit where the repository is on the machine.\n",
    "\n",
    "Link to Nighttime Lights Dataset: https://payneinstitute.mines.edu/eog/"
   ]
  },
  {
   "cell_type": "markdown",
   "id": "e8456a48",
   "metadata": {},
   "source": [
    "## 1) Setting up: Importing necessary libraries and defining the winsorization function:"
   ]
  },
  {
   "cell_type": "markdown",
   "id": "8b0fc3c0",
   "metadata": {},
   "source": [
    "Note: One can find the documentation for these libraries online if needed, installing may be required if they have not been installed previously."
   ]
  },
  {
   "cell_type": "code",
   "execution_count": 1,
   "id": "9713597a",
   "metadata": {},
   "outputs": [],
   "source": [
    "using Rasters\n",
    "using Dates\n",
    "using Statistics\n",
    "using ArchGDAL\n",
    "using Shapefile\n",
    "using DataFrames"
   ]
  },
  {
   "cell_type": "code",
   "execution_count": 2,
   "id": "c0ca6015",
   "metadata": {},
   "outputs": [
    {
     "data": {
      "text/plain": [
       "winsorize_image (generic function with 1 method)"
      ]
     },
     "metadata": {},
     "output_type": "display_data"
    }
   ],
   "source": [
    "# Define the winsorization function\n",
    "function winsorize_image(image, low_percentile::Float64, high_percentile::Float64)\n",
    "    min_value = quantile(vec(image), low_percentile)\n",
    "    max_value = quantile(vec(image), high_percentile)\n",
    "    winsorized_image = clamp.(image, min_value, max_value)\n",
    "    return winsorized_image\n",
    "end"
   ]
  },
  {
   "cell_type": "markdown",
   "id": "fb2900b9",
   "metadata": {},
   "source": [
    "## 2) Getting the Shapefile for the UAE:"
   ]
  },
  {
   "cell_type": "markdown",
   "id": "58e2c8e4",
   "metadata": {},
   "source": [
    "This allows us to get the exact borders for the UAE in order to obtain accurate nighttime light intensities.\n",
    "\n",
    "Link to the Shapefiles used: https://github.com/wri/wri-bounds/blob/master/README.md"
   ]
  },
  {
   "cell_type": "code",
   "execution_count": 3,
   "id": "114cc85c",
   "metadata": {},
   "outputs": [
    {
     "data": {
      "text/html": [
       "<div><div style = \"float: left;\"><span>193×29 DataFrame</span></div><div style = \"float: right;\"><span style = \"font-style: italic;\">168 rows omitted</span></div><div style = \"clear: both;\"></div></div><div class = \"data-frame\" style = \"overflow-x: scroll;\"><table class = \"data-frame\" style = \"margin-bottom: 6px;\"><thead><tr class = \"header\"><th class = \"rowNumber\" style = \"font-weight: bold; text-align: right;\">Row</th><th style = \"text-align: left;\">geometry</th><th style = \"text-align: left;\">ADM0_A3</th><th style = \"text-align: left;\">abbrev</th><th style = \"text-align: left;\">continent</th><th style = \"text-align: left;\">formal_nam</th><th style = \"text-align: left;\">iso_a2</th><th style = \"text-align: left;\">iso_a3</th><th style = \"text-align: left;\">iso_n3</th><th style = \"text-align: left;\">iso_short</th><th style = \"text-align: left;\">name</th><th style = \"text-align: left;\">name_sort</th><th style = \"text-align: left;\">postal</th><th style = \"text-align: left;\">primary</th><th style = \"text-align: left;\">short_name</th><th style = \"text-align: left;\">sov_a3</th><th style = \"text-align: left;\">sovereign</th><th style = \"text-align: left;\">type</th><th style = \"text-align: left;\">un_ar</th><th style = \"text-align: left;\">un_en</th><th style = \"text-align: left;\">un_es</th><th style = \"text-align: left;\">un_fr</th><th style = \"text-align: left;\">un_n3</th><th style = \"text-align: left;\">un_region</th><th style = \"text-align: left;\">un_ru</th><th style = \"text-align: left;\">un_subregi</th><th style = \"text-align: left;\">un_zh</th><th style = \"text-align: left;\">wb_a2</th><th style = \"text-align: left;\">wb_a3</th><th style = \"text-align: left;\">wb_region</th></tr><tr class = \"subheader headerLastRow\"><th class = \"rowNumber\" style = \"font-weight: bold; text-align: right;\"></th><th title = \"Union{Missing, Shapefile.Polygon}\" style = \"text-align: left;\">Polygon?</th><th title = \"Union{Missing, String}\" style = \"text-align: left;\">String?</th><th title = \"Union{Missing, String}\" style = \"text-align: left;\">String?</th><th title = \"Union{Missing, String}\" style = \"text-align: left;\">String?</th><th title = \"Union{Missing, String}\" style = \"text-align: left;\">String?</th><th title = \"Union{Missing, String}\" style = \"text-align: left;\">String?</th><th title = \"Union{Missing, String}\" style = \"text-align: left;\">String?</th><th title = \"Union{Missing, Int64}\" style = \"text-align: left;\">Int64?</th><th title = \"Union{Missing, String}\" style = \"text-align: left;\">String?</th><th title = \"Union{Missing, String}\" style = \"text-align: left;\">String?</th><th title = \"Union{Missing, String}\" style = \"text-align: left;\">String?</th><th title = \"Union{Missing, String}\" style = \"text-align: left;\">String?</th><th title = \"Union{Missing, Int64}\" style = \"text-align: left;\">Int64?</th><th title = \"Union{Missing, String}\" style = \"text-align: left;\">String?</th><th title = \"Union{Missing, String}\" style = \"text-align: left;\">String?</th><th title = \"Union{Missing, String}\" style = \"text-align: left;\">String?</th><th title = \"Union{Missing, String}\" style = \"text-align: left;\">String?</th><th title = \"Union{Missing, String}\" style = \"text-align: left;\">String?</th><th title = \"Union{Missing, String}\" style = \"text-align: left;\">String?</th><th title = \"Union{Missing, String}\" style = \"text-align: left;\">String?</th><th title = \"Union{Missing, String}\" style = \"text-align: left;\">String?</th><th title = \"Union{Missing, Int64}\" style = \"text-align: left;\">Int64?</th><th title = \"Union{Missing, String}\" style = \"text-align: left;\">String?</th><th title = \"Union{Missing, String}\" style = \"text-align: left;\">String?</th><th title = \"Union{Missing, String}\" style = \"text-align: left;\">String?</th><th title = \"Union{Missing, String}\" style = \"text-align: left;\">String?</th><th title = \"Union{Missing, String}\" style = \"text-align: left;\">String?</th><th title = \"Union{Missing, String}\" style = \"text-align: left;\">String?</th><th title = \"Union{Missing, String}\" style = \"text-align: left;\">String?</th></tr></thead><tbody><tr><td class = \"rowNumber\" style = \"font-weight: bold; text-align: right;\">1</td><td style = \"text-align: left;\">Polygon(1530 Points)</td><td style = \"text-align: left;\">AFG</td><td style = \"text-align: left;\">Afg.</td><td style = \"text-align: left;\">Asia</td><td style = \"text-align: left;\">Islamic State of Afghanistan</td><td style = \"text-align: left;\">AF</td><td style = \"text-align: left;\">AFG</td><td style = \"text-align: right;\">4</td><td style = \"text-align: left;\">Afghanistan</td><td style = \"text-align: left;\">Afghanistan</td><td style = \"text-align: left;\">Afghanistan</td><td style = \"text-align: left;\">AF</td><td style = \"text-align: right;\">1</td><td style = \"text-align: left;\">Afghanistan</td><td style = \"text-align: left;\">AFG</td><td style = \"text-align: left;\">Afghanistan</td><td style = \"text-align: left;\">Sovereign country</td><td style = \"text-align: left;\">ناتسناغفأ</td><td style = \"text-align: left;\">Afghanistan</td><td style = \"text-align: left;\">Afganistán (el)</td><td style = \"text-align: left;\">Afghanistan (l&apos;) [masc.]</td><td style = \"text-align: right;\">4</td><td style = \"text-align: left;\">Asia</td><td style = \"text-align: left;\">Афганистан</td><td style = \"text-align: left;\">Southern Asia</td><td style = \"text-align: left;\">阿富汗</td><td style = \"text-align: left;\">AF</td><td style = \"text-align: left;\">AFG</td><td style = \"text-align: left;\">South Asia</td></tr><tr><td class = \"rowNumber\" style = \"font-weight: bold; text-align: right;\">2</td><td style = \"text-align: left;\">Polygon(1642 Points)</td><td style = \"text-align: left;\">AGO</td><td style = \"text-align: left;\">Ang.</td><td style = \"text-align: left;\">Africa</td><td style = \"text-align: left;\">People&apos;s Republic of Angola</td><td style = \"text-align: left;\">AO</td><td style = \"text-align: left;\">AGO</td><td style = \"text-align: right;\">24</td><td style = \"text-align: left;\">Angola</td><td style = \"text-align: left;\">Angola</td><td style = \"text-align: left;\">Angola</td><td style = \"text-align: left;\">AO</td><td style = \"text-align: right;\">1</td><td style = \"text-align: left;\">Angola</td><td style = \"text-align: left;\">AGO</td><td style = \"text-align: left;\">Angola</td><td style = \"text-align: left;\">Sovereign country</td><td style = \"text-align: left;\">الوغنأ</td><td style = \"text-align: left;\">Angola</td><td style = \"text-align: left;\">Angola</td><td style = \"text-align: left;\">Angola (l&apos;) [masc.]</td><td style = \"text-align: right;\">24</td><td style = \"text-align: left;\">Africa</td><td style = \"text-align: left;\">Ангола</td><td style = \"text-align: left;\">Middle Africa</td><td style = \"text-align: left;\">安哥拉</td><td style = \"text-align: left;\">AO</td><td style = \"text-align: left;\">AGO</td><td style = \"text-align: left;\">Sub-Saharan Africa</td></tr><tr><td class = \"rowNumber\" style = \"font-weight: bold; text-align: right;\">3</td><td style = \"text-align: left;\">Polygon(554 Points)</td><td style = \"text-align: left;\">ALB</td><td style = \"text-align: left;\">Alb.</td><td style = \"text-align: left;\">Europe</td><td style = \"text-align: left;\">Republic of Albania</td><td style = \"text-align: left;\">AL</td><td style = \"text-align: left;\">ALB</td><td style = \"text-align: right;\">8</td><td style = \"text-align: left;\">Albania</td><td style = \"text-align: left;\">Albania</td><td style = \"text-align: left;\">Albania</td><td style = \"text-align: left;\">AL</td><td style = \"text-align: right;\">1</td><td style = \"text-align: left;\">Albania</td><td style = \"text-align: left;\">ALB</td><td style = \"text-align: left;\">Albania</td><td style = \"text-align: left;\">Sovereign country</td><td style = \"text-align: left;\">اينابلأ</td><td style = \"text-align: left;\">Albania</td><td style = \"text-align: left;\">Albania</td><td style = \"text-align: left;\">Albanie (l&apos;) [fém.]</td><td style = \"text-align: right;\">8</td><td style = \"text-align: left;\">Europe</td><td style = \"text-align: left;\">Албания</td><td style = \"text-align: left;\">Southern Europe</td><td style = \"text-align: left;\">阿尔巴尼亚</td><td style = \"text-align: left;\">AL</td><td style = \"text-align: left;\">ALB</td><td style = \"text-align: left;\">Europe &amp; Central Asia</td></tr><tr><td class = \"rowNumber\" style = \"font-weight: bold; text-align: right;\">4</td><td style = \"text-align: left;\">Polygon(51 Points)</td><td style = \"text-align: left;\">AND</td><td style = \"text-align: left;\">And.</td><td style = \"text-align: left;\">Europe</td><td style = \"text-align: left;\">Principality of Andorra</td><td style = \"text-align: left;\">AD</td><td style = \"text-align: left;\">AND</td><td style = \"text-align: right;\">20</td><td style = \"text-align: left;\">Andorra</td><td style = \"text-align: left;\">Andorra</td><td style = \"text-align: left;\">Andorra</td><td style = \"text-align: left;\">AND</td><td style = \"text-align: right;\">1</td><td style = \"text-align: left;\">Andorra</td><td style = \"text-align: left;\">AND</td><td style = \"text-align: left;\">Andorra</td><td style = \"text-align: left;\">Sovereign country</td><td style = \"text-align: left;\">ارودنأ</td><td style = \"text-align: left;\">Andorra</td><td style = \"text-align: left;\">Andorra</td><td style = \"text-align: left;\">Andorre (l&apos;) [fém.]</td><td style = \"text-align: right;\">20</td><td style = \"text-align: left;\">Europe</td><td style = \"text-align: left;\">Андорра</td><td style = \"text-align: left;\">Southern Europe</td><td style = \"text-align: left;\">安道尔</td><td style = \"text-align: left;\">AD</td><td style = \"text-align: left;\">ADO</td><td style = \"text-align: left;\">Europe &amp; Central Asia</td></tr><tr><td class = \"rowNumber\" style = \"font-weight: bold; text-align: right;\">5</td><td style = \"text-align: left;\">Polygon(796 Points)</td><td style = \"text-align: left;\">ARE</td><td style = \"text-align: left;\">U.A.E.</td><td style = \"text-align: left;\">Asia</td><td style = \"text-align: left;\">United Arab Emirates</td><td style = \"text-align: left;\">AE</td><td style = \"text-align: left;\">ARE</td><td style = \"text-align: right;\">784</td><td style = \"text-align: left;\">United Arab Emirates (the)</td><td style = \"text-align: left;\">United Arab Emirates</td><td style = \"text-align: left;\">United Arab Emirates</td><td style = \"text-align: left;\">AE</td><td style = \"text-align: right;\">1</td><td style = \"text-align: left;\">United Arab Emirates</td><td style = \"text-align: left;\">ARE</td><td style = \"text-align: left;\">United Arab Emirates</td><td style = \"text-align: left;\">Sovereign country</td><td style = \"text-align: left;\">ةدحتملا ةيبرعلا تارامإلا</td><td style = \"text-align: left;\">United Arab Emirates (the)</td><td style = \"text-align: left;\">Emiratos Árabes Unidos (los)</td><td style = \"text-align: left;\">Émirats arabes unis (les)</td><td style = \"text-align: right;\">784</td><td style = \"text-align: left;\">Asia</td><td style = \"text-align: left;\">Объединенные Арабские Эмираты</td><td style = \"text-align: left;\">Western Asia</td><td style = \"text-align: left;\">阿拉伯联合酋长国</td><td style = \"text-align: left;\">AE</td><td style = \"text-align: left;\">ARE</td><td style = \"text-align: left;\">Middle East &amp; North Africa</td></tr><tr><td class = \"rowNumber\" style = \"font-weight: bold; text-align: right;\">6</td><td style = \"text-align: left;\">Polygon(4696 Points)</td><td style = \"text-align: left;\">ARG</td><td style = \"text-align: left;\">Arg.</td><td style = \"text-align: left;\">South America</td><td style = \"text-align: left;\">Argentine Republic</td><td style = \"text-align: left;\">AR</td><td style = \"text-align: left;\">ARG</td><td style = \"text-align: right;\">32</td><td style = \"text-align: left;\">Argentina</td><td style = \"text-align: left;\">Argentina</td><td style = \"text-align: left;\">Argentina</td><td style = \"text-align: left;\">AR</td><td style = \"text-align: right;\">1</td><td style = \"text-align: left;\">Argentina</td><td style = \"text-align: left;\">ARG</td><td style = \"text-align: left;\">Argentina</td><td style = \"text-align: left;\">Sovereign country</td><td style = \"text-align: left;\">نيتنجرألا</td><td style = \"text-align: left;\">Argentina</td><td style = \"text-align: left;\">Argentina (la)</td><td style = \"text-align: left;\">Argentine</td><td style = \"text-align: right;\">32</td><td style = \"text-align: left;\">Americas</td><td style = \"text-align: left;\">Аргентина</td><td style = \"text-align: left;\">South America</td><td style = \"text-align: left;\">阿根廷</td><td style = \"text-align: left;\">AR</td><td style = \"text-align: left;\">ARG</td><td style = \"text-align: left;\">Latin America &amp; Caribbean</td></tr><tr><td class = \"rowNumber\" style = \"font-weight: bold; text-align: right;\">7</td><td style = \"text-align: left;\">Polygon(433 Points)</td><td style = \"text-align: left;\">ARM</td><td style = \"text-align: left;\">Arm.</td><td style = \"text-align: left;\">Asia</td><td style = \"text-align: left;\">Republic of Armenia</td><td style = \"text-align: left;\">AM</td><td style = \"text-align: left;\">ARM</td><td style = \"text-align: right;\">51</td><td style = \"text-align: left;\">Armenia</td><td style = \"text-align: left;\">Armenia</td><td style = \"text-align: left;\">Armenia</td><td style = \"text-align: left;\">ARM</td><td style = \"text-align: right;\">1</td><td style = \"text-align: left;\">Armenia</td><td style = \"text-align: left;\">ARM</td><td style = \"text-align: left;\">Armenia</td><td style = \"text-align: left;\">Sovereign country</td><td style = \"text-align: left;\">اينيمرأ</td><td style = \"text-align: left;\">Armenia</td><td style = \"text-align: left;\">Armenia</td><td style = \"text-align: left;\">Arménie (l&apos;) [fém.]</td><td style = \"text-align: right;\">51</td><td style = \"text-align: left;\">Asia</td><td style = \"text-align: left;\">Армения</td><td style = \"text-align: left;\">Western Asia</td><td style = \"text-align: left;\">亚美尼亚</td><td style = \"text-align: left;\">AM</td><td style = \"text-align: left;\">ARM</td><td style = \"text-align: left;\">Europe &amp; Central Asia</td></tr><tr><td class = \"rowNumber\" style = \"font-weight: bold; text-align: right;\">8</td><td style = \"text-align: left;\">Polygon(108 Points)</td><td style = \"text-align: left;\">ATG</td><td style = \"text-align: left;\">Ant.B.</td><td style = \"text-align: left;\">North America</td><td style = \"text-align: left;\">Antigua and Barbuda</td><td style = \"text-align: left;\">AG</td><td style = \"text-align: left;\">ATG</td><td style = \"text-align: right;\">28</td><td style = \"text-align: left;\">Antigua and Barbuda</td><td style = \"text-align: left;\">Antigua and Barbuda</td><td style = \"text-align: left;\">Antigua and Barbuda</td><td style = \"text-align: left;\">AG</td><td style = \"text-align: right;\">1</td><td style = \"text-align: left;\">Antigua and Barb.</td><td style = \"text-align: left;\">ATG</td><td style = \"text-align: left;\">Antigua and Barbuda</td><td style = \"text-align: left;\">Sovereign country</td><td style = \"text-align: left;\">ادوبربو اوغيتنأ</td><td style = \"text-align: left;\">Antigua and Barbuda</td><td style = \"text-align: left;\">Antigua y Barbuda</td><td style = \"text-align: left;\">Antigua-et-Barbuda [fém.]</td><td style = \"text-align: right;\">28</td><td style = \"text-align: left;\">Americas</td><td style = \"text-align: left;\">Антигуа и Барбуда</td><td style = \"text-align: left;\">Caribbean</td><td style = \"text-align: left;\">安提瓜和巴布达</td><td style = \"text-align: left;\">AG</td><td style = \"text-align: left;\">ATG</td><td style = \"text-align: left;\">Latin America &amp; Caribbean</td></tr><tr><td class = \"rowNumber\" style = \"font-weight: bold; text-align: right;\">9</td><td style = \"text-align: left;\">Polygon(13650 Points)</td><td style = \"text-align: left;\">AUS</td><td style = \"text-align: left;\">Auz.</td><td style = \"text-align: left;\">Oceania</td><td style = \"text-align: left;\">Commonwealth of Australia</td><td style = \"text-align: left;\">AU</td><td style = \"text-align: left;\">AUS</td><td style = \"text-align: right;\">36</td><td style = \"text-align: left;\">Australia</td><td style = \"text-align: left;\">Australia</td><td style = \"text-align: left;\">Australia</td><td style = \"text-align: left;\">AU</td><td style = \"text-align: right;\">1</td><td style = \"text-align: left;\">Australia</td><td style = \"text-align: left;\">AU1</td><td style = \"text-align: left;\">Australia</td><td style = \"text-align: left;\">Sovereign country</td><td style = \"text-align: left;\">ايلارتسأ</td><td style = \"text-align: left;\">Australia</td><td style = \"text-align: left;\">Australia</td><td style = \"text-align: left;\">Australie (l&apos;) [fém.]</td><td style = \"text-align: right;\">36</td><td style = \"text-align: left;\">Oceania</td><td style = \"text-align: left;\">Австралия</td><td style = \"text-align: left;\">Australia and New Zealand</td><td style = \"text-align: left;\">澳大利亚</td><td style = \"text-align: left;\">AU</td><td style = \"text-align: left;\">AUS</td><td style = \"text-align: left;\">East Asia &amp; Pacific</td></tr><tr><td class = \"rowNumber\" style = \"font-weight: bold; text-align: right;\">10</td><td style = \"text-align: left;\">Polygon(1094 Points)</td><td style = \"text-align: left;\">AUT</td><td style = \"text-align: left;\">Aust.</td><td style = \"text-align: left;\">Europe</td><td style = \"text-align: left;\">Republic of Austria</td><td style = \"text-align: left;\">AT</td><td style = \"text-align: left;\">AUT</td><td style = \"text-align: right;\">40</td><td style = \"text-align: left;\">Austria</td><td style = \"text-align: left;\">Austria</td><td style = \"text-align: left;\">Austria</td><td style = \"text-align: left;\">A</td><td style = \"text-align: right;\">1</td><td style = \"text-align: left;\">Austria</td><td style = \"text-align: left;\">AUT</td><td style = \"text-align: left;\">Austria</td><td style = \"text-align: left;\">Sovereign country</td><td style = \"text-align: left;\">اسمنلا</td><td style = \"text-align: left;\">Austria</td><td style = \"text-align: left;\">Austria</td><td style = \"text-align: left;\">Autriche (l&apos;) [fém.]</td><td style = \"text-align: right;\">40</td><td style = \"text-align: left;\">Europe</td><td style = \"text-align: left;\">Австрия</td><td style = \"text-align: left;\">Western Europe</td><td style = \"text-align: left;\">奥地利</td><td style = \"text-align: left;\">AT</td><td style = \"text-align: left;\">AUT</td><td style = \"text-align: left;\">Europe &amp; Central Asia</td></tr><tr><td class = \"rowNumber\" style = \"font-weight: bold; text-align: right;\">11</td><td style = \"text-align: left;\">Polygon(956 Points)</td><td style = \"text-align: left;\">AZE</td><td style = \"text-align: left;\">Aze.</td><td style = \"text-align: left;\">Asia</td><td style = \"text-align: left;\">Republic of Azerbaijan</td><td style = \"text-align: left;\">AZ</td><td style = \"text-align: left;\">AZE</td><td style = \"text-align: right;\">31</td><td style = \"text-align: left;\">Azerbaijan</td><td style = \"text-align: left;\">Azerbaijan</td><td style = \"text-align: left;\">Azerbaijan</td><td style = \"text-align: left;\">AZ</td><td style = \"text-align: right;\">1</td><td style = \"text-align: left;\">Azerbaijan</td><td style = \"text-align: left;\">AZE</td><td style = \"text-align: left;\">Azerbaijan</td><td style = \"text-align: left;\">Sovereign country</td><td style = \"text-align: left;\">ناجيبرذأ</td><td style = \"text-align: left;\">Azerbaijan</td><td style = \"text-align: left;\">Azerbaiyán</td><td style = \"text-align: left;\">Azerbaïdjan (l&apos;) [masc.]</td><td style = \"text-align: right;\">31</td><td style = \"text-align: left;\">Asia</td><td style = \"text-align: left;\">Азербайджан</td><td style = \"text-align: left;\">Western Asia</td><td style = \"text-align: left;\">阿塞拜疆</td><td style = \"text-align: left;\">AZ</td><td style = \"text-align: left;\">AZE</td><td style = \"text-align: left;\">Europe &amp; Central Asia</td></tr><tr><td class = \"rowNumber\" style = \"font-weight: bold; text-align: right;\">12</td><td style = \"text-align: left;\">Polygon(307 Points)</td><td style = \"text-align: left;\">BDI</td><td style = \"text-align: left;\">Bur.</td><td style = \"text-align: left;\">Africa</td><td style = \"text-align: left;\">Republic of Burundi</td><td style = \"text-align: left;\">BI</td><td style = \"text-align: left;\">BDI</td><td style = \"text-align: right;\">108</td><td style = \"text-align: left;\">Burundi</td><td style = \"text-align: left;\">Burundi</td><td style = \"text-align: left;\">Burundi</td><td style = \"text-align: left;\">BI</td><td style = \"text-align: right;\">1</td><td style = \"text-align: left;\">Burundi</td><td style = \"text-align: left;\">BDI</td><td style = \"text-align: left;\">Burundi</td><td style = \"text-align: left;\">Sovereign country</td><td style = \"text-align: left;\">يدنوروب</td><td style = \"text-align: left;\">Burundi</td><td style = \"text-align: left;\">Burundi</td><td style = \"text-align: left;\">Burundi (le)</td><td style = \"text-align: right;\">108</td><td style = \"text-align: left;\">Africa</td><td style = \"text-align: left;\">Бурунди</td><td style = \"text-align: left;\">Eastern Africa</td><td style = \"text-align: left;\">布隆迪</td><td style = \"text-align: left;\">BI</td><td style = \"text-align: left;\">BDI</td><td style = \"text-align: left;\">Sub-Saharan Africa</td></tr><tr><td class = \"rowNumber\" style = \"font-weight: bold; text-align: right;\">13</td><td style = \"text-align: left;\">Polygon(648 Points)</td><td style = \"text-align: left;\">BEL</td><td style = \"text-align: left;\">Belg.</td><td style = \"text-align: left;\">Europe</td><td style = \"text-align: left;\">Kingdom of Belgium</td><td style = \"text-align: left;\">BE</td><td style = \"text-align: left;\">BEL</td><td style = \"text-align: right;\">56</td><td style = \"text-align: left;\">Belgium</td><td style = \"text-align: left;\">Belgium</td><td style = \"text-align: left;\">Belgium</td><td style = \"text-align: left;\">B</td><td style = \"text-align: right;\">1</td><td style = \"text-align: left;\">Belgium</td><td style = \"text-align: left;\">BEL</td><td style = \"text-align: left;\">Belgium</td><td style = \"text-align: left;\">Sovereign country</td><td style = \"text-align: left;\">اكيجلب</td><td style = \"text-align: left;\">Belgium</td><td style = \"text-align: left;\">Bélgica</td><td style = \"text-align: left;\">Belgique (la)</td><td style = \"text-align: right;\">56</td><td style = \"text-align: left;\">Europe</td><td style = \"text-align: left;\">Бельгия</td><td style = \"text-align: left;\">Western Europe</td><td style = \"text-align: left;\">比利时</td><td style = \"text-align: left;\">BE</td><td style = \"text-align: left;\">BEL</td><td style = \"text-align: left;\">Europe &amp; Central Asia</td></tr><tr><td style = \"text-align: right;\">&vellip;</td><td style = \"text-align: right;\">&vellip;</td><td style = \"text-align: right;\">&vellip;</td><td style = \"text-align: right;\">&vellip;</td><td style = \"text-align: right;\">&vellip;</td><td style = \"text-align: right;\">&vellip;</td><td style = \"text-align: right;\">&vellip;</td><td style = \"text-align: right;\">&vellip;</td><td style = \"text-align: right;\">&vellip;</td><td style = \"text-align: right;\">&vellip;</td><td style = \"text-align: right;\">&vellip;</td><td style = \"text-align: right;\">&vellip;</td><td style = \"text-align: right;\">&vellip;</td><td style = \"text-align: right;\">&vellip;</td><td style = \"text-align: right;\">&vellip;</td><td style = \"text-align: right;\">&vellip;</td><td style = \"text-align: right;\">&vellip;</td><td style = \"text-align: right;\">&vellip;</td><td style = \"text-align: right;\">&vellip;</td><td style = \"text-align: right;\">&vellip;</td><td style = \"text-align: right;\">&vellip;</td><td style = \"text-align: right;\">&vellip;</td><td style = \"text-align: right;\">&vellip;</td><td style = \"text-align: right;\">&vellip;</td><td style = \"text-align: right;\">&vellip;</td><td style = \"text-align: right;\">&vellip;</td><td style = \"text-align: right;\">&vellip;</td><td style = \"text-align: right;\">&vellip;</td><td style = \"text-align: right;\">&vellip;</td><td style = \"text-align: right;\">&vellip;</td></tr><tr><td class = \"rowNumber\" style = \"font-weight: bold; text-align: right;\">182</td><td style = \"text-align: left;\">Polygon(581 Points)</td><td style = \"text-align: left;\">URY</td><td style = \"text-align: left;\">Ury.</td><td style = \"text-align: left;\">South America</td><td style = \"text-align: left;\">Oriental Republic of Uruguay</td><td style = \"text-align: left;\">UY</td><td style = \"text-align: left;\">URY</td><td style = \"text-align: right;\">858</td><td style = \"text-align: left;\">Uruguay</td><td style = \"text-align: left;\">Uruguay</td><td style = \"text-align: left;\">Uruguay</td><td style = \"text-align: left;\">UY</td><td style = \"text-align: right;\">1</td><td style = \"text-align: left;\">Uruguay</td><td style = \"text-align: left;\">URY</td><td style = \"text-align: left;\">Uruguay</td><td style = \"text-align: left;\">Sovereign country</td><td style = \"text-align: left;\">ياوغوروأ</td><td style = \"text-align: left;\">Uruguay</td><td style = \"text-align: left;\">Uruguay (el)</td><td style = \"text-align: left;\">Uruguay (l&apos;) [masc.]</td><td style = \"text-align: right;\">858</td><td style = \"text-align: left;\">Americas</td><td style = \"text-align: left;\">Уругвай</td><td style = \"text-align: left;\">South America</td><td style = \"text-align: left;\">乌拉圭</td><td style = \"text-align: left;\">UY</td><td style = \"text-align: left;\">URY</td><td style = \"text-align: left;\">Latin America &amp; Caribbean</td></tr><tr><td class = \"rowNumber\" style = \"font-weight: bold; text-align: right;\">183</td><td style = \"text-align: left;\">Polygon(36018 Points)</td><td style = \"text-align: left;\">USA</td><td style = \"text-align: left;\">U.S.A.</td><td style = \"text-align: left;\">North America</td><td style = \"text-align: left;\">United States of America</td><td style = \"text-align: left;\">US</td><td style = \"text-align: left;\">USA</td><td style = \"text-align: right;\">840</td><td style = \"text-align: left;\">United States (the)</td><td style = \"text-align: left;\">United States of America</td><td style = \"text-align: left;\">United States of America</td><td style = \"text-align: left;\">US</td><td style = \"text-align: right;\">1</td><td style = \"text-align: left;\">United States</td><td style = \"text-align: left;\">US1</td><td style = \"text-align: left;\">United States of America</td><td style = \"text-align: left;\">Sovereign country</td><td style = \"text-align: left;\">ةيكيرمألا ةدحتملا تايالولا</td><td style = \"text-align: left;\">United States of America (the)</td><td style = \"text-align: left;\">Estados Unidos de América (los)</td><td style = \"text-align: left;\">États-Unis d&apos;Amérique (les)</td><td style = \"text-align: right;\">840</td><td style = \"text-align: left;\">Americas</td><td style = \"text-align: left;\">Соединенные Штаты Америки</td><td style = \"text-align: left;\">Northern America</td><td style = \"text-align: left;\">美利坚合众国</td><td style = \"text-align: left;\">US</td><td style = \"text-align: left;\">USA</td><td style = \"text-align: left;\">North America</td></tr><tr><td class = \"rowNumber\" style = \"font-weight: bold; text-align: right;\">184</td><td style = \"text-align: left;\">Polygon(1665 Points)</td><td style = \"text-align: left;\">UZB</td><td style = \"text-align: left;\">Uzb.</td><td style = \"text-align: left;\">Asia</td><td style = \"text-align: left;\">Republic of Uzbekistan</td><td style = \"text-align: left;\">UZ</td><td style = \"text-align: left;\">UZB</td><td style = \"text-align: right;\">860</td><td style = \"text-align: left;\">Uzbekistan</td><td style = \"text-align: left;\">Uzbekistan</td><td style = \"text-align: left;\">Uzbekistan</td><td style = \"text-align: left;\">UZ</td><td style = \"text-align: right;\">1</td><td style = \"text-align: left;\">Uzbekistan</td><td style = \"text-align: left;\">UZB</td><td style = \"text-align: left;\">Uzbekistan</td><td style = \"text-align: left;\">Sovereign country</td><td style = \"text-align: left;\">ناتسكبزوأ</td><td style = \"text-align: left;\">Uzbekistan</td><td style = \"text-align: left;\">Uzbekistán</td><td style = \"text-align: left;\">Ouzbékistan (l&apos;) [masc.]</td><td style = \"text-align: right;\">860</td><td style = \"text-align: left;\">Asia</td><td style = \"text-align: left;\">Узбекистан</td><td style = \"text-align: left;\">Central Asia</td><td style = \"text-align: left;\">乌兹别克斯坦</td><td style = \"text-align: left;\">UZ</td><td style = \"text-align: left;\">UZB</td><td style = \"text-align: left;\">Europe &amp; Central Asia</td></tr><tr><td class = \"rowNumber\" style = \"font-weight: bold; text-align: right;\">185</td><td style = \"text-align: left;\">Polygon(83 Points)</td><td style = \"text-align: left;\">VCT</td><td style = \"text-align: left;\">St.V.G.</td><td style = \"text-align: left;\">North America</td><td style = \"text-align: left;\">Saint Vincent and the Grenadines</td><td style = \"text-align: left;\">VC</td><td style = \"text-align: left;\">VCT</td><td style = \"text-align: right;\">670</td><td style = \"text-align: left;\">Saint Vincent and the Grenadines</td><td style = \"text-align: left;\">Saint Vincent and the Grenadines</td><td style = \"text-align: left;\">St. Vincent and the Grenadines</td><td style = \"text-align: left;\">VC</td><td style = \"text-align: right;\">1</td><td style = \"text-align: left;\">St. Vin. and Gren.</td><td style = \"text-align: left;\">VCT</td><td style = \"text-align: left;\">Saint Vincent and the Grenadines</td><td style = \"text-align: left;\">Sovereign country</td><td style = \"text-align: left;\">نيدانيرغ رزجو تنسنف تناس</td><td style = \"text-align: left;\">Saint Vincent and the Grenadines</td><td style = \"text-align: left;\">San Vicente y las Granadinas</td><td style = \"text-align: left;\">Saint-Vincent-et-les Grenadines [fém.]</td><td style = \"text-align: right;\">670</td><td style = \"text-align: left;\">Americas</td><td style = \"text-align: left;\">Сент-Винсент и Гренадины</td><td style = \"text-align: left;\">Caribbean</td><td style = \"text-align: left;\">圣文森特和格林纳丁斯</td><td style = \"text-align: left;\">VC</td><td style = \"text-align: left;\">VCT</td><td style = \"text-align: left;\">Latin America &amp; Caribbean</td></tr><tr><td class = \"rowNumber\" style = \"font-weight: bold; text-align: right;\">186</td><td style = \"text-align: left;\">Polygon(3201 Points)</td><td style = \"text-align: left;\">VEN</td><td style = \"text-align: left;\">Ven.</td><td style = \"text-align: left;\">South America</td><td style = \"text-align: left;\">Bolivarian Republic of Venezuela</td><td style = \"text-align: left;\">VE</td><td style = \"text-align: left;\">VEN</td><td style = \"text-align: right;\">862</td><td style = \"text-align: left;\">Venezuela, Bolivarian Republic of</td><td style = \"text-align: left;\">Venezuela</td><td style = \"text-align: left;\">Venezuela, RB</td><td style = \"text-align: left;\">VE</td><td style = \"text-align: right;\">1</td><td style = \"text-align: left;\">Venezuela</td><td style = \"text-align: left;\">VEN</td><td style = \"text-align: left;\">Venezuela</td><td style = \"text-align: left;\">Sovereign country</td><td style = \"text-align: left;\">)ةيرافيلوبلا - ةيروهمج( اليوزنف</td><td style = \"text-align: left;\">Venezuela (Bolivarian Republic of)</td><td style = \"text-align: left;\">Venezuela (República Bolivariana de)</td><td style = \"text-align: left;\">Venezuela (République bolivarienne du)</td><td style = \"text-align: right;\">862</td><td style = \"text-align: left;\">Americas</td><td style = \"text-align: left;\">Венесуэла (Боливарианская Республика)</td><td style = \"text-align: left;\">South America</td><td style = \"text-align: left;\">委内瑞拉（玻利瓦尔共和国）</td><td style = \"text-align: left;\">VE</td><td style = \"text-align: left;\">VEN</td><td style = \"text-align: left;\">Latin America &amp; Caribbean</td></tr><tr><td class = \"rowNumber\" style = \"font-weight: bold; text-align: right;\">187</td><td style = \"text-align: left;\">Polygon(4166 Points)</td><td style = \"text-align: left;\">VNM</td><td style = \"text-align: left;\">Viet.</td><td style = \"text-align: left;\">Asia</td><td style = \"text-align: left;\">Socialist Republic of Vietnam</td><td style = \"text-align: left;\">VN</td><td style = \"text-align: left;\">VNM</td><td style = \"text-align: right;\">704</td><td style = \"text-align: left;\">Viet Nam</td><td style = \"text-align: left;\">Vietnam</td><td style = \"text-align: left;\">Vietnam</td><td style = \"text-align: left;\">VN</td><td style = \"text-align: right;\">1</td><td style = \"text-align: left;\">Vietnam</td><td style = \"text-align: left;\">VNM</td><td style = \"text-align: left;\">Vietnam</td><td style = \"text-align: left;\">Sovereign country</td><td style = \"text-align: left;\">مان تييف</td><td style = \"text-align: left;\">Viet Nam</td><td style = \"text-align: left;\">Viet Nam</td><td style = \"text-align: left;\">Viet Nam (le)</td><td style = \"text-align: right;\">704</td><td style = \"text-align: left;\">Asia</td><td style = \"text-align: left;\">Вьетнам</td><td style = \"text-align: left;\">South-Eastern Asia</td><td style = \"text-align: left;\">越南</td><td style = \"text-align: left;\">VN</td><td style = \"text-align: left;\">VNM</td><td style = \"text-align: left;\">East Asia &amp; Pacific</td></tr><tr><td class = \"rowNumber\" style = \"font-weight: bold; text-align: right;\">188</td><td style = \"text-align: left;\">Polygon(1015 Points)</td><td style = \"text-align: left;\">VUT</td><td style = \"text-align: left;\">Van.</td><td style = \"text-align: left;\">Oceania</td><td style = \"text-align: left;\">Republic of Vanuatu</td><td style = \"text-align: left;\">VU</td><td style = \"text-align: left;\">VUT</td><td style = \"text-align: right;\">548</td><td style = \"text-align: left;\">Vanuatu</td><td style = \"text-align: left;\">Vanuatu</td><td style = \"text-align: left;\">Vanuatu</td><td style = \"text-align: left;\">VU</td><td style = \"text-align: right;\">1</td><td style = \"text-align: left;\">Vanuatu</td><td style = \"text-align: left;\">VUT</td><td style = \"text-align: left;\">Vanuatu</td><td style = \"text-align: left;\">Sovereign country</td><td style = \"text-align: left;\">وتاوناف</td><td style = \"text-align: left;\">Vanuatu</td><td style = \"text-align: left;\">Vanuatu</td><td style = \"text-align: left;\">Vanuatu [masc]</td><td style = \"text-align: right;\">548</td><td style = \"text-align: left;\">Oceania</td><td style = \"text-align: left;\">Вануату</td><td style = \"text-align: left;\">Melanesia</td><td style = \"text-align: left;\">瓦努阿图</td><td style = \"text-align: left;\">VU</td><td style = \"text-align: left;\">VUT</td><td style = \"text-align: left;\">East Asia &amp; Pacific</td></tr><tr><td class = \"rowNumber\" style = \"font-weight: bold; text-align: right;\">189</td><td style = \"text-align: left;\">Polygon(132 Points)</td><td style = \"text-align: left;\">WSM</td><td style = \"text-align: left;\">Samoa</td><td style = \"text-align: left;\">Oceania</td><td style = \"text-align: left;\">Independent State of Samoa</td><td style = \"text-align: left;\">WS</td><td style = \"text-align: left;\">WSM</td><td style = \"text-align: right;\">882</td><td style = \"text-align: left;\">Samoa</td><td style = \"text-align: left;\">Samoa</td><td style = \"text-align: left;\">Samoa</td><td style = \"text-align: left;\">WS</td><td style = \"text-align: right;\">1</td><td style = \"text-align: left;\">Samoa</td><td style = \"text-align: left;\">WSM</td><td style = \"text-align: left;\">Samoa</td><td style = \"text-align: left;\">Sovereign country</td><td style = \"text-align: left;\">اوماس</td><td style = \"text-align: left;\">Samoa</td><td style = \"text-align: left;\">Samoa</td><td style = \"text-align: left;\">Samoa (le)</td><td style = \"text-align: right;\">882</td><td style = \"text-align: left;\">Oceania</td><td style = \"text-align: left;\">Самоа</td><td style = \"text-align: left;\">Polynesia</td><td style = \"text-align: left;\">萨摩亚</td><td style = \"text-align: left;\">WS</td><td style = \"text-align: left;\">WSM</td><td style = \"text-align: left;\">East Asia &amp; Pacific</td></tr><tr><td class = \"rowNumber\" style = \"font-weight: bold; text-align: right;\">190</td><td style = \"text-align: left;\">Polygon(1027 Points)</td><td style = \"text-align: left;\">YEM</td><td style = \"text-align: left;\">Yem.</td><td style = \"text-align: left;\">Asia</td><td style = \"text-align: left;\">Republic of Yemen</td><td style = \"text-align: left;\">YE</td><td style = \"text-align: left;\">YEM</td><td style = \"text-align: right;\">887</td><td style = \"text-align: left;\">Yemen</td><td style = \"text-align: left;\">Yemen</td><td style = \"text-align: left;\">Yemen, Rep.</td><td style = \"text-align: left;\">YE</td><td style = \"text-align: right;\">1</td><td style = \"text-align: left;\">Yemen</td><td style = \"text-align: left;\">YEM</td><td style = \"text-align: left;\">Yemen</td><td style = \"text-align: left;\">Sovereign country</td><td style = \"text-align: left;\">نميلا</td><td style = \"text-align: left;\">Yemen</td><td style = \"text-align: left;\">Yemen (el)</td><td style = \"text-align: left;\">Yémen (le)</td><td style = \"text-align: right;\">887</td><td style = \"text-align: left;\">Asia</td><td style = \"text-align: left;\">Йемен</td><td style = \"text-align: left;\">Western Asia</td><td style = \"text-align: left;\">也门</td><td style = \"text-align: left;\">RY</td><td style = \"text-align: left;\">YEM</td><td style = \"text-align: left;\">Middle East &amp; North Africa</td></tr><tr><td class = \"rowNumber\" style = \"font-weight: bold; text-align: right;\">191</td><td style = \"text-align: left;\">Polygon(2207 Points)</td><td style = \"text-align: left;\">ZAF</td><td style = \"text-align: left;\">S.Af.</td><td style = \"text-align: left;\">Africa</td><td style = \"text-align: left;\">Republic of South Africa</td><td style = \"text-align: left;\">ZA</td><td style = \"text-align: left;\">ZAF</td><td style = \"text-align: right;\">710</td><td style = \"text-align: left;\">South Africa</td><td style = \"text-align: left;\">South Africa</td><td style = \"text-align: left;\">South Africa</td><td style = \"text-align: left;\">ZA</td><td style = \"text-align: right;\">1</td><td style = \"text-align: left;\">South Africa</td><td style = \"text-align: left;\">ZAF</td><td style = \"text-align: left;\">South Africa</td><td style = \"text-align: left;\">Sovereign country</td><td style = \"text-align: left;\">ايقيرفأ بونج</td><td style = \"text-align: left;\">South Africa</td><td style = \"text-align: left;\">Sudáfrica</td><td style = \"text-align: left;\">Afrique du Sud (l&apos;) [fém.]</td><td style = \"text-align: right;\">710</td><td style = \"text-align: left;\">Africa</td><td style = \"text-align: left;\">Южная Африка</td><td style = \"text-align: left;\">Southern Africa</td><td style = \"text-align: left;\">南非</td><td style = \"text-align: left;\">ZA</td><td style = \"text-align: left;\">ZAF</td><td style = \"text-align: left;\">Sub-Saharan Africa</td></tr><tr><td class = \"rowNumber\" style = \"font-weight: bold; text-align: right;\">192</td><td style = \"text-align: left;\">Polygon(1508 Points)</td><td style = \"text-align: left;\">ZMB</td><td style = \"text-align: left;\">Zambia</td><td style = \"text-align: left;\">Africa</td><td style = \"text-align: left;\">Republic of Zambia</td><td style = \"text-align: left;\">ZM</td><td style = \"text-align: left;\">ZMB</td><td style = \"text-align: right;\">894</td><td style = \"text-align: left;\">Zambia</td><td style = \"text-align: left;\">Zambia</td><td style = \"text-align: left;\">Zambia</td><td style = \"text-align: left;\">ZM</td><td style = \"text-align: right;\">1</td><td style = \"text-align: left;\">Zambia</td><td style = \"text-align: left;\">ZMB</td><td style = \"text-align: left;\">Zambia</td><td style = \"text-align: left;\">Sovereign country</td><td style = \"text-align: left;\">ايبماز</td><td style = \"text-align: left;\">Zambia</td><td style = \"text-align: left;\">Zambia</td><td style = \"text-align: left;\">Zambie (la)</td><td style = \"text-align: right;\">894</td><td style = \"text-align: left;\">Africa</td><td style = \"text-align: left;\">Замбия</td><td style = \"text-align: left;\">Eastern Africa</td><td style = \"text-align: left;\">赞比亚</td><td style = \"text-align: left;\">ZM</td><td style = \"text-align: left;\">ZMB</td><td style = \"text-align: left;\">Sub-Saharan Africa</td></tr><tr><td class = \"rowNumber\" style = \"font-weight: bold; text-align: right;\">193</td><td style = \"text-align: left;\">Polygon(766 Points)</td><td style = \"text-align: left;\">ZWE</td><td style = \"text-align: left;\">Zimb.</td><td style = \"text-align: left;\">Africa</td><td style = \"text-align: left;\">Republic of Zimbabwe</td><td style = \"text-align: left;\">ZW</td><td style = \"text-align: left;\">ZWE</td><td style = \"text-align: right;\">716</td><td style = \"text-align: left;\">Zimbabwe</td><td style = \"text-align: left;\">Zimbabwe</td><td style = \"text-align: left;\">Zimbabwe</td><td style = \"text-align: left;\">ZW</td><td style = \"text-align: right;\">1</td><td style = \"text-align: left;\">Zimbabwe</td><td style = \"text-align: left;\">ZWE</td><td style = \"text-align: left;\">Zimbabwe</td><td style = \"text-align: left;\">Sovereign country</td><td style = \"text-align: left;\">يوبابمز</td><td style = \"text-align: left;\">Zimbabwe</td><td style = \"text-align: left;\">Zimbabwe</td><td style = \"text-align: left;\">Zimbabwe (le)</td><td style = \"text-align: right;\">716</td><td style = \"text-align: left;\">Africa</td><td style = \"text-align: left;\">Зимбабве</td><td style = \"text-align: left;\">Eastern Africa</td><td style = \"text-align: left;\">津巴布韦</td><td style = \"text-align: left;\">ZW</td><td style = \"text-align: left;\">ZWE</td><td style = \"text-align: left;\">Sub-Saharan Africa</td></tr></tbody></table></div>"
      ],
      "text/latex": [
       "\\begin{tabular}{r|cccccc}\n",
       "\t& geometry & ADM0\\_A3 & abbrev & continent & formal\\_nam & \\\\\n",
       "\t\\hline\n",
       "\t& Polygon? & String? & String? & String? & String? & \\\\\n",
       "\t\\hline\n",
       "\t1 & Polygon(1530 Points) & AFG & Afg. & Asia & Islamic State of Afghanistan & $\\dots$ \\\\\n",
       "\t2 & Polygon(1642 Points) & AGO & Ang. & Africa & People's Republic of Angola & $\\dots$ \\\\\n",
       "\t3 & Polygon(554 Points) & ALB & Alb. & Europe & Republic of Albania & $\\dots$ \\\\\n",
       "\t4 & Polygon(51 Points) & AND & And. & Europe & Principality of Andorra & $\\dots$ \\\\\n",
       "\t5 & Polygon(796 Points) & ARE & U.A.E. & Asia & United Arab Emirates & $\\dots$ \\\\\n",
       "\t6 & Polygon(4696 Points) & ARG & Arg. & South America & Argentine Republic & $\\dots$ \\\\\n",
       "\t7 & Polygon(433 Points) & ARM & Arm. & Asia & Republic of Armenia & $\\dots$ \\\\\n",
       "\t8 & Polygon(108 Points) & ATG & Ant.B. & North America & Antigua and Barbuda & $\\dots$ \\\\\n",
       "\t9 & Polygon(13650 Points) & AUS & Auz. & Oceania & Commonwealth of Australia & $\\dots$ \\\\\n",
       "\t10 & Polygon(1094 Points) & AUT & Aust. & Europe & Republic of Austria & $\\dots$ \\\\\n",
       "\t11 & Polygon(956 Points) & AZE & Aze. & Asia & Republic of Azerbaijan & $\\dots$ \\\\\n",
       "\t12 & Polygon(307 Points) & BDI & Bur. & Africa & Republic of Burundi & $\\dots$ \\\\\n",
       "\t13 & Polygon(648 Points) & BEL & Belg. & Europe & Kingdom of Belgium & $\\dots$ \\\\\n",
       "\t14 & Polygon(616 Points) & BEN & Benin & Africa & Republic of Benin & $\\dots$ \\\\\n",
       "\t15 & Polygon(1110 Points) & BFA & B.F. & Africa & Burkina Faso & $\\dots$ \\\\\n",
       "\t16 & Polygon(2280 Points) & BGD & Bang. & Asia & People's Republic of Bangladesh & $\\dots$ \\\\\n",
       "\t17 & Polygon(879 Points) & BGR & Bulg. & Europe & Republic of Bulgaria & $\\dots$ \\\\\n",
       "\t18 & Polygon(50 Points) & BHR & Bahr. & Asia & Kingdom of Bahrain & $\\dots$ \\\\\n",
       "\t19 & Polygon(1609 Points) & BHS & Bhs. & North America & Commonwealth of the Bahamas & $\\dots$ \\\\\n",
       "\t20 & Polygon(616 Points) & BIH & B.H. & Europe & Bosnia and Herzegovina & $\\dots$ \\\\\n",
       "\t21 & Polygon(1173 Points) & BLR & Bela. & Europe & Republic of Belarus & $\\dots$ \\\\\n",
       "\t22 & Polygon(493 Points) & BLZ & Belize & North America & Belize & $\\dots$ \\\\\n",
       "\t23 & Polygon(1491 Points) & BOL & Bolivia & South America & Plurinational State of Bolivia & $\\dots$ \\\\\n",
       "\t24 & Polygon(11116 Points) & BRA & Brazil & South America & Federative Republic of Brazil & $\\dots$ \\\\\n",
       "\t$\\dots$ & $\\dots$ & $\\dots$ & $\\dots$ & $\\dots$ & $\\dots$ &  \\\\\n",
       "\\end{tabular}\n"
      ],
      "text/plain": [
       "\u001b[1m193×29 DataFrame\u001b[0m\n",
       "\u001b[1m Row \u001b[0m│\u001b[1m geometry              \u001b[0m\u001b[1m ADM0_A3 \u001b[0m\u001b[1m abbrev  \u001b[0m\u001b[1m continent     \u001b[0m\u001b[1m formal_nam     \u001b[0m ⋯\n",
       "     │\u001b[90m Polygon?              \u001b[0m\u001b[90m String? \u001b[0m\u001b[90m String? \u001b[0m\u001b[90m String?       \u001b[0m\u001b[90m String?        \u001b[0m ⋯\n",
       "─────┼──────────────────────────────────────────────────────────────────────────\n",
       "   1 │ Polygon(1530 Points)   AFG      Afg.     Asia           Islamic State o ⋯\n",
       "   2 │ Polygon(1642 Points)   AGO      Ang.     Africa         People's Republ\n",
       "   3 │ Polygon(554 Points)    ALB      Alb.     Europe         Republic of Alb\n",
       "   4 │ Polygon(51 Points)     AND      And.     Europe         Principality of\n",
       "   5 │ Polygon(796 Points)    ARE      U.A.E.   Asia           United Arab Emi ⋯\n",
       "   6 │ Polygon(4696 Points)   ARG      Arg.     South America  Argentine Repub\n",
       "   7 │ Polygon(433 Points)    ARM      Arm.     Asia           Republic of Arm\n",
       "   8 │ Polygon(108 Points)    ATG      Ant.B.   North America  Antigua and Bar\n",
       "  ⋮  │           ⋮               ⋮        ⋮           ⋮                        ⋱\n",
       " 187 │ Polygon(4166 Points)   VNM      Viet.    Asia           Socialist Repub ⋯\n",
       " 188 │ Polygon(1015 Points)   VUT      Van.     Oceania        Republic of Van\n",
       " 189 │ Polygon(132 Points)    WSM      Samoa    Oceania        Independent Sta\n",
       " 190 │ Polygon(1027 Points)   YEM      Yem.     Asia           Republic of Yem\n",
       " 191 │ Polygon(2207 Points)   ZAF      S.Af.    Africa         Republic of Sou ⋯\n",
       " 192 │ Polygon(1508 Points)   ZMB      Zambia   Africa         Republic of Zam\n",
       " 193 │ Polygon(766 Points)    ZWE      Zimb.    Africa         Republic of Zim\n",
       "\u001b[36m                                                 25 columns and 178 rows omitted\u001b[0m"
      ]
     },
     "metadata": {},
     "output_type": "display_data"
    }
   ],
   "source": [
    "path_shp = \"/Users/nslei/OneDrive/Stanford_IHP/ECON109/Project/UAE/lockdown-uae/\" # Change with your own path to the repository\n",
    "shp = Shapefile.Table(\"$path_shp/all_primary_countries/all_primary_countries.shp\") |> DataFrame"
   ]
  },
  {
   "cell_type": "code",
   "execution_count": null,
   "id": "fc313a67",
   "metadata": {},
   "outputs": [
    {
     "data": {
      "text/plain": [
       "Polygon(796 Points)"
      ]
     },
     "metadata": {},
     "output_type": "display_data"
    }
   ],
   "source": [
    "uae_index = findall( x -> x == \"United Arab Emirates\", shp.name) # This gives us the shapefile for the UAE\n",
    "uae_shape = shp.geometry[uae_index[1]]"
   ]
  },
  {
   "cell_type": "markdown",
   "id": "2415869e",
   "metadata": {},
   "source": [
    "## 3) Producing the Radiance Datacube:"
   ]
  },
  {
   "cell_type": "markdown",
   "id": "dfdf710d",
   "metadata": {},
   "source": [
    "Link to the documentation for the radiance Datacube structure: https://xkdr.github.io/NighttimeLights.jl/dev/.\n",
    "\n",
    "Link to the bounding box used: https://xkdr.github.io/NighttimeLights.jl/dev/. Note that this was slightly adjusted in the code."
   ]
  },
  {
   "cell_type": "code",
   "execution_count": null,
   "id": "8937424e",
   "metadata": {},
   "outputs": [
    {
     "data": {
      "text/plain": [
       "(\u001b[38;5;209m↓ \u001b[39m\u001b[38;5;209mX\u001b[39m \u001b[38;5;209mBetween((51.58, 56.38))\u001b[39m, \u001b[38;5;32m→ \u001b[39m\u001b[38;5;32mY\u001b[39m \u001b[38;5;32mBetween((22.63, 26.05))\u001b[39m)"
      ]
     },
     "metadata": {},
     "output_type": "display_data"
    }
   ],
   "source": [
    "path = \"/Users/nslei/OneDrive/Stanford_IHP/ECON109/Project/UAE/lockdown-uae/NTL_data\" # Insert your path to the repository here.\n",
    "filelist = readdir(path)\n",
    "dates = [\n",
    "    Date(match(r\"\\d{8}\", f).match, dateformat\"yyyymmdd\")\n",
    "    for f in filelist\n",
    "]\n",
    "bounds = X(Rasters.Between(51.58, 56.38)), Y(Rasters.Between(22.63, 26.05))   \n"
   ]
  },
  {
   "cell_type": "code",
   "execution_count": 7,
   "id": "625f5149",
   "metadata": {},
   "outputs": [
    {
     "data": {
      "text/plain": [
       "14-element Vector{Raster{Float32, 2, Tuple{X{Projected{Float64, LinRange{Float64, Int64}, DimensionalData.Dimensions.Lookups.ForwardOrdered, DimensionalData.Dimensions.Lookups.Regular{Float64}, DimensionalData.Dimensions.Lookups.Intervals{DimensionalData.Dimensions.Lookups.Start}, DimensionalData.Dimensions.Lookups.NoMetadata, WellKnownText{GeoFormatTypes.CRS}, Nothing, X{Colon}}}, Y{Projected{Float64, LinRange{Float64, Int64}, DimensionalData.Dimensions.Lookups.ReverseOrdered, DimensionalData.Dimensions.Lookups.Regular{Float64}, DimensionalData.Dimensions.Lookups.Intervals{DimensionalData.Dimensions.Lookups.Start}, DimensionalData.Dimensions.Lookups.NoMetadata, WellKnownText{GeoFormatTypes.CRS}, Nothing, Y{Colon}}}}, Tuple{Band{DimensionalData.Dimensions.Lookups.Categorical{Int64, UnitRange{Int64}, DimensionalData.Dimensions.Lookups.ForwardOrdered, DimensionalData.Dimensions.Lookups.NoMetadata}}}, Matrix{Float32}, Symbol, DimensionalData.Dimensions.Lookups.Metadata{Rasters.GDALsource, Dict{String, Any}}, Nothing}}:\n",
       " Float32[0.66 0.65 … 0.21 0.18; 0.68 0.7 … 0.2 0.21; … ; 5.9 2.66 … 0.31 0.23; 3.18 1.07 … 0.32 0.28]\n",
       " Float32[1.11 1.12 … 0.24 0.2; 1.0 1.1 … 0.25 0.27; … ; 8.83 5.42 … 0.38 0.3; 3.42 1.93 … 0.37 0.36]\n",
       " Float32[1.13 1.18 … 0.22 0.23; 1.12 1.13 … 0.22 0.21; … ; 11.05 5.47 … 0.36 0.28; 3.83 1.92 … 0.28 0.31]\n",
       " Float32[0.97 1.0 … 0.23 0.2; 0.99 0.96 … 0.21 0.19; … ; 7.53 3.21 … 0.36 0.31; 4.54 1.85 … 0.33 0.32]\n",
       " Float32[0.88 0.9 … 0.32 0.37; 0.87 0.9 … 0.27 0.26; … ; 8.33 3.09 … 0.36 0.35; 4.22 1.56 … 0.35 0.29]\n",
       " Float32[1.61 1.69 … 0.35 0.38; 1.56 1.67 … 0.43 0.36; … ; 5.14 3.87 … 0.43 0.46; 4.19 2.72 … 0.41 0.41]\n",
       " Float32[1.1 1.09 … 0.37 0.31; 1.05 1.1 … 0.3 0.31; … ; 7.64 5.04 … 0.43 0.34; 3.56 1.72 … 0.41 0.36]\n",
       " Float32[0.83 0.9 … 0.33 0.25; 0.81 0.85 … 0.24 0.35; … ; 7.25 3.78 … 0.3 0.37; 3.58 1.87 … 0.29 0.33]\n",
       " Float32[0.95 0.97 … 0.27 0.2; 0.94 1.09 … 0.33 0.27; … ; 7.87 3.23 … 0.33 0.28; 2.78 1.39 … 0.37 0.23]\n",
       " Float32[1.05 1.05 … 0.26 0.24; 1.05 1.06 … 0.29 0.29; … ; 6.17 2.92 … 0.43 0.41; 3.08 1.52 … 0.33 0.32]\n",
       " Float32[0.85 0.88 … 0.34 0.32; 0.84 0.97 … 0.3 0.35; … ; 6.79 5.14 … 0.42 0.45; 5.63 1.77 … 0.41 0.43]\n",
       " Float32[0.96 1.01 … 0.41 0.48; 1.0 1.07 … 0.4 0.4; … ; 6.75 3.12 … 0.58 0.51; 2.54 1.34 … 0.56 0.49]\n",
       " Float32[0.81 0.83 … 0.32 0.38; 0.85 0.81 … 0.37 0.35; … ; 11.03 7.12 … 0.42 0.46; 4.17 2.56 … 0.44 0.42]\n",
       " Float32[1.35 1.46 … 0.45 0.46; 1.36 1.43 … 0.35 0.43; … ; 8.84 6.14 … 0.49 0.49; 4.0 2.78 … 0.49 0.5]"
      ]
     },
     "metadata": {},
     "output_type": "display_data"
    }
   ],
   "source": [
    "radiance_raster_list = [\n",
    "    Raster(joinpath(path, f), lazy=true)[bounds...] \n",
    "    for f in filelist\n",
    "]"
   ]
  },
  {
   "cell_type": "code",
   "execution_count": 8,
   "id": "66a1f197",
   "metadata": {},
   "outputs": [
    {
     "data": {
      "text/plain": [
       "\u001b[90m╭───────────────────────────────╮\u001b[39m\n",
       "\u001b[90m│ \u001b[39m\u001b[38;5;209m1151\u001b[39m×\u001b[38;5;32m820\u001b[39m×\u001b[38;5;81m14\u001b[39m Raster{Float32,3}\u001b[90m │\u001b[39m\n",
       "\u001b[90m├───────────────────────────────┴──────────────────────────────────────── dims ┐\u001b[39m\n",
       "  \u001b[38;5;209m↓ \u001b[39m\u001b[38;5;209mX \u001b[39m Projected{Float64} \u001b[38;5;209mLinRange{Float64}(51.581250892650004, 56.372917597649995, 1151)\u001b[39m \u001b[38;5;244mForwardOrdered\u001b[39m \u001b[38;5;244mRegular\u001b[39m \u001b[38;5;244mIntervals{Start}\u001b[39m,\n",
       "  \u001b[38;5;32m→ \u001b[39m\u001b[38;5;32mY \u001b[39m Projected{Float64} \u001b[38;5;32mLinRange{Float64}(26.04374960834999, 22.631249581049996, 820)\u001b[39m \u001b[38;5;244mReverseOrdered\u001b[39m \u001b[38;5;244mRegular\u001b[39m \u001b[38;5;244mIntervals{Start}\u001b[39m,\n",
       "  \u001b[38;5;81m↗ \u001b[39m\u001b[38;5;81mTi\u001b[39m Sampled{Date} \u001b[38;5;81m[2019-03-01, …, 2023-10-01]\u001b[39m \u001b[38;5;244mForwardOrdered\u001b[39m \u001b[38;5;244mIrregular\u001b[39m \u001b[38;5;244mPoints\u001b[39m\n",
       "\u001b[90m├──────────────────────────────────────────────────────────────────── metadata ┤\u001b[39m\n",
       "  Metadata{Rasters.GDALsource}\u001b[90m of \u001b[39mDict{String, Any} with 4 entries:\n",
       "  \"units\"    => \"\"\n",
       "  \"offset\"   => 0.0\n",
       "  \"filepath\" => \"/Users/nslei/OneDrive/Stanford_IHP/ECON109/Project/UAE/lockdow…\n",
       "  \"scale\"    => 1.0\n",
       "\u001b[90m├────────────────────────────────────────────────────────────────────── raster ┤\u001b[39m\n",
       "\u001b[90m  extent: \u001b[39mExtent(X = (51.581250892650004, 56.377084264349996), Y = (22.631249581049996, 26.047916275049992), Ti = (Date(\"2019-03-01\"), Date(\"2023-10-01\")))\n",
       "\n",
       "\u001b[90m  crs: \u001b[39mGEOGCS[\"WGS 84\",DATUM[\"WGS_1984\",SPHEROID[\"WGS 84\",6378137,298.257223563,AUTHORITY[\"EPSG\",\"7030\"]],AUTHORITY[\"EPSG\",\"6326\"]],PRIMEM[\"Greenwich\",0,AUTHORITY[\"EPSG\",\"8901\"]],UNIT[\"degree\",0.0174532925199433,AUTHORITY[\"EPSG\",\"9122\"]],AXIS[\"Latitude\",NORTH],AXIS[\"Longitude\",EAST],AUTHORITY[\"EPSG\",\"4326\"]]\n",
       "\u001b[90m└──────────────────────────────────────────────────────────────────────────────┘\u001b[39m\n",
       "[\u001b[38;5;209m:\u001b[39m, \u001b[38;5;32m:\u001b[39m, \u001b[38;5;81m1\u001b[39m]\n",
       "  \u001b[38;5;209m↓\u001b[39m \u001b[38;5;32m→\u001b[39m     \u001b[38;5;32m26.0437\u001b[39m  \u001b[38;5;32m26.0396\u001b[39m  \u001b[38;5;32m26.0354\u001b[39m  …  \u001b[38;5;32m22.6437\u001b[39m  \u001b[38;5;32m22.6396\u001b[39m  \u001b[38;5;32m22.6354\u001b[39m  \u001b[38;5;32m22.6312\u001b[39m\n",
       "  ⋮                                  ⋱                              ⋮\n",
       " \u001b[38;5;209m56.3729\u001b[39m   3.18     1.07     0.44        0.22     0.28     0.32     0.28"
      ]
     },
     "metadata": {},
     "output_type": "display_data"
    }
   ],
   "source": [
    "radiance_series = RasterSeries(radiance_raster_list, Ti(dates))\n",
    "radiance_datacube = Rasters.combine(radiance_series, Ti)[bounds...]"
   ]
  },
  {
   "cell_type": "code",
   "execution_count": 9,
   "id": "39ca4b0d",
   "metadata": {},
   "outputs": [],
   "source": [
    "total_light_per_month = []\n",
    "\n",
    "for i in 1:length(dates)\n",
    "    raster_uae = Raster(view(radiance_datacube, Ti(i)))\n",
    "    raster_cropped = crop(raster_uae; to = shp.geometry[uae_index])\n",
    "\n",
    "    raster_masked = mask(raster_cropped; with = shp.geometry[uae_index])\n",
    "    arr = Array(raster_masked)\n",
    "\n",
    "    arr_nonmissing = collect(skipmissing(arr))\n",
    "    arr_winsorized = winsorize_image(arr_nonmissing, 0.01, 0.99)\n",
    "\n",
    "    total_sum = sum(skipmissing(arr_winsorized))\n",
    "    push!(total_light_per_month, total_sum)\n",
    "end"
   ]
  },
  {
   "cell_type": "code",
   "execution_count": 10,
   "id": "c0500e51",
   "metadata": {},
   "outputs": [
    {
     "data": {
      "text/plain": [
       "Dict{Date, Float64} with 14 entries:\n",
       "  Date(\"2020-03-01\") => 1.56824e6\n",
       "  Date(\"2023-10-01\") => 1.89247e6\n",
       "  Date(\"2022-09-01\") => 1.81791e6\n",
       "  Date(\"2019-03-01\") => 1.55143e6\n",
       "  Date(\"2020-05-01\") => 1.57293e6\n",
       "  Date(\"2020-08-01\") => 1.52345e6\n",
       "  Date(\"2019-06-01\") => 1.58671e6\n",
       "  Date(\"2019-05-01\") => 1.63234e6\n",
       "  Date(\"2020-04-01\") => 1.64561e6\n",
       "  Date(\"2020-06-01\") => 1.53042e6\n",
       "  Date(\"2021-08-01\") => 1.64686e6\n",
       "  Date(\"2020-02-01\") => 1.61187e6\n",
       "  Date(\"2020-09-01\") => 1.62196e6\n",
       "  Date(\"2020-07-01\") => 1.54918e6"
      ]
     },
     "metadata": {},
     "output_type": "display_data"
    }
   ],
   "source": [
    "uae_light_sums = Dict(dates[i] => total_light_per_month[i] for i in 1:length(dates))"
   ]
  },
  {
   "cell_type": "markdown",
   "id": "1c9c7c78",
   "metadata": {},
   "source": [
    "## 4) Printing the results"
   ]
  },
  {
   "cell_type": "code",
   "execution_count": 11,
   "id": "4bb171e7",
   "metadata": {},
   "outputs": [
    {
     "name": "stdout",
     "output_type": "stream",
     "text": [
      "2019-03-01 → Winsorized total radiance: 1.5514326499896795e6\n",
      "2019-05-01 → Winsorized total radiance: 1.6323424356693774e6\n",
      "2019-06-01 → Winsorized total radiance: 1.5867051288760006e6\n",
      "2020-02-01 → Winsorized total radiance: 1.6118737161283654e6\n",
      "2020-03-01 → Winsorized total radiance: 1.5682395723239481e6\n",
      "2020-04-01 → Winsorized total radiance: 1.6456131177985081e6\n",
      "2020-05-01 → Winsorized total radiance: 1.5729348255057633e6\n",
      "2020-06-01 → Winsorized total radiance: 1.5304188946522183e6\n",
      "2020-07-01 → Winsorized total radiance: 1.5491843054264453e6\n",
      "2020-08-01 → Winsorized total radiance: 1.523449965577513e6\n",
      "2020-09-01 → Winsorized total radiance: 1.6219561419276e6\n",
      "2021-08-01 → Winsorized total radiance: 1.6468595728129565e6\n",
      "2022-09-01 → Winsorized total radiance: 1.8179142553801537e6\n",
      "2023-10-01 → Winsorized total radiance: 1.8924718623865095e6\n"
     ]
    }
   ],
   "source": [
    "for (month, total) in sort(uae_light_sums)\n",
    "    println(\"$month → Winsorized total radiance: $total\")\n",
    "end"
   ]
  },
  {
   "cell_type": "code",
   "execution_count": 18,
   "id": "fa1b16d6",
   "metadata": {},
   "outputs": [
    {
     "name": "stdout",
     "output_type": "stream",
     "text": [
      "Slope (Mar 2019 – Feb 2020): 5494.642376244174\n",
      "Log-Slope (Mar 2019 – Feb 2020): 0.00347440970828685\n",
      "\n",
      "Slope (Sep 2020 – Aug 2021): 2263.948262305147\n",
      "Log-Slope (Sep 2020 – Aug 2021): 0.0013852063023871027\n",
      "\n",
      "Slope (Aug 2021 – Sep 2022): 13158.05250516901\n",
      "Log-Slope (Aug 2021 – Sep 2022): 0.007601511171835922\n",
      "\n",
      "Slope (Sep 2022 – Oct 2023): 5735.200538950453\n",
      "Log-Slope (Sep 2022 – Oct 2023): 0.003091846759514529\n"
     ]
    }
   ],
   "source": [
    "# Function to retrieve the data between two tim periods:\n",
    "function get_range_indices(dates, start_date::Date, end_date::Date)\n",
    "    findall(d -> d >= start_date && d <= end_date, dates)\n",
    "end\n",
    "\n",
    "\n",
    "# First period: March 2019 to February 2020\n",
    "idx1 = get_range_indices(dates, Date(2019,3,1), Date(2020,2,29))\n",
    "vals1 = total_light_per_month[idx1]\n",
    "slope1 = (last(vals1) - first(vals1)) / 11              # 11 months in this period\n",
    "log_slope1 = (log(last(vals1)) - log(first(vals1))) / 11\n",
    "println(\"Slope (Mar 2019 – Feb 2020): \", slope1)\n",
    "println(\"Log-Slope (Mar 2019 – Feb 2020): \", log_slope1)\n",
    "println()\n",
    "\n",
    "# Second period: September 2020 to August 2021\n",
    "idx2 = get_range_indices(dates, Date(2020,9,1), Date(2021,8,31))\n",
    "vals2 = total_light_per_month[idx2]\n",
    "slope2 = (last(vals2) - first(vals2)) / 11\n",
    "log_slope2 = (log(last(vals2)) - log(first(vals2))) / 11\n",
    "println(\"Slope (Sep 2020 – Aug 2021): \", slope2)\n",
    "println(\"Log-Slope (Sep 2020 – Aug 2021): \", log_slope2)\n",
    "println()\n",
    "\n",
    "# Third period: August 2021 to September 2022\n",
    "idx3 = get_range_indices(dates, Date(2021,8,1), Date(2022,9,30))\n",
    "vals3 = total_light_per_month[idx3]\n",
    "slope3 = (last(vals3) - first(vals3)) / 13              # 13 months in this period\n",
    "log_slope3 = (log(last(vals3)) - log(first(vals3))) / 13 \n",
    "println(\"Slope (Aug 2021 – Sep 2022): \", slope3)\n",
    "println(\"Log-Slope (Aug 2021 – Sep 2022): \", log_slope3)\n",
    "println()\n",
    "\n",
    "# Fourth period: September 2022 to October 2023\n",
    "idx4 = get_range_indices(dates, Date(2022,9,1), Date(2023,10,31))\n",
    "vals4 = total_light_per_month[idx4]\n",
    "slope4 = (last(vals4) - first(vals4)) / 13\n",
    "log_slope4 = (log(last(vals4)) - log(first(vals4))) / 13\n",
    "println(\"Slope (Sep 2022 – Oct 2023): \", slope4)\n",
    "println(\"Log-Slope (Sep 2022 – Oct 2023): \", log_slope4)"
   ]
  },
  {
   "cell_type": "code",
   "execution_count": null,
   "id": "ba925b3b",
   "metadata": {},
   "outputs": [],
   "source": []
  }
 ],
 "metadata": {
  "kernelspec": {
   "display_name": "Julia 1.11.5",
   "language": "julia",
   "name": "julia-1.11"
  },
  "language_info": {
   "file_extension": ".jl",
   "mimetype": "application/julia",
   "name": "julia",
   "version": "1.11.5"
  }
 },
 "nbformat": 4,
 "nbformat_minor": 5
}
